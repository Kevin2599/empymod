{
 "cells": [
  {
   "cell_type": "markdown",
   "metadata": {},
   "source": [
    "# Example profiling of `empymod`"
   ]
  },
  {
   "cell_type": "code",
   "execution_count": null,
   "metadata": {
    "collapsed": false
   },
   "outputs": [],
   "source": [
    "import numpy as np\n",
    "from line_profiler import LineProfiler\n",
    "%load_ext memory_profiler\n",
    "\n",
    "import empymod\n",
    "from empymod import transform, kernel, model, utils, filters"
   ]
  },
  {
   "cell_type": "markdown",
   "metadata": {},
   "source": [
    "## Profiler `do_profile`\n",
    "\n",
    "The function `do_profile` is taken from:\n",
    "  - Blog : https://zapier.com/engineering/profiling-python-boss/\n",
    "  - GitHub: https://github.com/zapier/profiling-python-like-a-boss/blob/master/timers.py.\n",
    "\n",
    "License:\n",
    "\n",
    "Copyright (c) 2013, Zapier Inc. All rights reserved.\n",
    "\n",
    "Redistribution and use in source and binary forms, with or without modification, are permitted provided that the following conditions are met:\n",
    "\n",
    "   - Redistributions of source code must retain the above copyright notice, this list of conditions and the following disclaimer.\n",
    "   - Redistributions in binary form must reproduce the above copyright notice, this list of conditions and the following disclaimer in the documentation and/or other materials provided with the distribution.\n",
    "   - Neither the name of the Zapier Inc. nor the names of its contributors may be used to endorse or promote products derived from this software without specific prior written permission.\n",
    "\n",
    "THIS SOFTWARE IS PROVIDED BY THE COPYRIGHT HOLDERS AND CONTRIBUTORS \"AS IS\" AND ANY EXPRESS OR IMPLIED WARRANTIES, INCLUDING, BUT NOT LIMITED TO, THE IMPLIED WARRANTIES OF MERCHANTABILITY AND FITNESS FOR A PARTICULAR PURPOSE ARE DISCLAIMED. IN NO EVENT SHALL BE LIABLE FOR ANY DIRECT, INDIRECT, INCIDENTAL, SPECIAL, EXEMPLARY, OR CONSEQUENTIAL DAMAGES (INCLUDING, BUT NOT LIMITED TO, PROCUREMENT OF SUBSTITUTE GOODS OR SERVICES; LOSS OF USE, DATA, OR PROFITS; OR BUSINESS INTERRUPTION) HOWEVER CAUSED AND ON ANY THEORY OF LIABILITY, WHETHER IN CONTRACT, STRICT LIABILITY, OR TORT (INCLUDING NEGLIGENCE OR OTHERWISE) ARISING IN ANY WAY OUT OF THE USE OF THIS SOFTWARE, EVEN IF ADVISED OF THE POSSIBILITY OF SUCH DAMAGE."
   ]
  },
  {
   "cell_type": "code",
   "execution_count": null,
   "metadata": {
    "collapsed": true
   },
   "outputs": [],
   "source": [
    "def do_profile(follow=[]):\n",
    "    \"\"\"\n",
    "    Simply decorate an expensive function and optionally\n",
    "    pass other functions to follow. For example:\n",
    "        def get_number():\n",
    "            for x in xrange(5000000):\n",
    "                yield x\n",
    "        @do_profile(follow=[get_number])\n",
    "        def expensive_function():\n",
    "            for x in get_number(5000000):\n",
    "                i = x ^ x ^ x\n",
    "            return 'some result!'\n",
    "    \"\"\"\n",
    "    def inner(func):\n",
    "        def profiled_func(*args, **kwargs):\n",
    "            try:\n",
    "                profiler = LineProfiler()\n",
    "                profiler.add_function(func)\n",
    "                for f in follow:\n",
    "                    profiler.add_function(f)\n",
    "                profiler.enable_by_count()\n",
    "                return func(*args, **kwargs)\n",
    "            finally:\n",
    "                profiler.print_stats()\n",
    "        return profiled_func\n",
    "    return inner"
   ]
  },
  {
   "cell_type": "markdown",
   "metadata": {},
   "source": [
    "### Define Model"
   ]
  },
  {
   "cell_type": "code",
   "execution_count": null,
   "metadata": {
    "collapsed": false
   },
   "outputs": [],
   "source": [
    "src   = [0, 0, 400]\n",
    "rec   = [np.arange(1,1001)*10, np.arange(1,1001)*3, 400]\n",
    "depth = [ 0, 200, 500, 600, 1100, 1300, 1800, 2300, 3000]\n",
    "res   = [1e20, 4, 10, 20, 1/.2, 1/.3, 1/.4, 1/.5, 1/.6, 1/.7]\n",
    "aniso  = [.5, 4, 2, 1.5, 3, .25, 2, .5, 1, 2]\n",
    "epermH = [1, 80, 5, 10, 20, 3, 20, 5, 8, 10]\n",
    "epermV = [1, 80, 5, 20, 10, 8, 10, 5, 6, 5]\n",
    "mpermH = [1, 1, 1.0001, 1, 1, 1.00001, 1, 1, 1, 1]\n",
    "mpermV = [1, 1, 1, 1.0001, 1.0001, 1, 1, 1, 1, 1]\n",
    "freq = np.arange(1,21)"
   ]
  },
  {
   "cell_type": "markdown",
   "metadata": {},
   "source": [
    "## Profile\n",
    "\n",
    "Activate or adjust depending on what you want to profile"
   ]
  },
  {
   "cell_type": "code",
   "execution_count": null,
   "metadata": {
    "collapsed": false,
    "scrolled": true
   },
   "outputs": [],
   "source": [
    "#@do_profile(follow=[model.frequency, hankel.fht, kernel.wavenumber])\n",
    "#@do_profile(follow=[utils.check_ab, utils.check_param, utils.check_spatial, utils.check_frequency])\n",
    "\n",
    "@do_profile(follow=[transform.fht, kernel.greenfct, kernel.reflections, kernel.fields])\n",
    "def test_function():\n",
    "    out = model.frequency(src=src, rec=rec, depth=depth, res=res, ab=11, freq=freq,\n",
    "                          ht='FHT', htarg=filters.key_401_2009(),\n",
    "                          verb=1, xdirect=False, opt='spline',\n",
    "                          aniso=aniso, epermH=epermH, epermV=epermV, mpermH=mpermH, mpermV=mpermV)\n",
    "result = test_function()"
   ]
  },
  {
   "cell_type": "markdown",
   "metadata": {
    "collapsed": true
   },
   "source": [
    "## Memory and other tests"
   ]
  },
  {
   "cell_type": "code",
   "execution_count": null,
   "metadata": {
    "collapsed": false
   },
   "outputs": [],
   "source": [
    "opt = 'spline'\n",
    "HT='FHT'\n",
    "\n",
    "print('timeit')\n",
    "%timeit model.frequency(src=src, rec=rec, depth=depth, res=res, aniso=aniso, freq=freq, ab=11, ht=HT, verb=0, xdirect=False, epermH=epermH, epermV=epermV, mpermH=mpermH, mpermV=mpermV, opt=opt)\n",
    "\n",
    "print('\\nmemit')\n",
    "%memit model.frequency(src=src, rec=rec, depth=depth, res=res, aniso=aniso, freq=freq, ab=11, ht=HT, verb=0, xdirect=False, epermH=epermH, epermV=epermV, mpermH=mpermH, mpermV=mpermV, opt=opt)\n",
    "\n",
    "print('\\nmprun')\n",
    "%mprun -f kernel.greenfct model.frequency(src=src, rec=rec, depth=depth, res=res, aniso=aniso, freq=freq, ab=11, ht=HT, verb=0, xdirect=False, epermH=epermH, epermV=epermV, mpermH=mpermH, mpermV=mpermV, opt=opt)\n",
    "\n",
    "print('\\nprun')\n",
    "%prun -l 10 model.frequency(src=src, rec=rec, depth=depth, res=res, aniso=aniso, freq=freq, ab=11, ht=HT, verb=0, xdirect=False, epermH=epermH, epermV=epermV, mpermH=mpermH, mpermV=mpermV, opt=opt)\n"
   ]
  }
 ],
 "metadata": {
  "anaconda-cloud": {},
  "kernelspec": {
   "display_name": "Python [conda root]",
   "language": "python",
   "name": "conda-root-py"
  },
  "language_info": {
   "codemirror_mode": {
    "name": "ipython",
    "version": 3
   },
   "file_extension": ".py",
   "mimetype": "text/x-python",
   "name": "python",
   "nbconvert_exporter": "python",
   "pygments_lexer": "ipython3",
   "version": "3.5.2"
  }
 },
 "nbformat": 4,
 "nbformat_minor": 0
}
