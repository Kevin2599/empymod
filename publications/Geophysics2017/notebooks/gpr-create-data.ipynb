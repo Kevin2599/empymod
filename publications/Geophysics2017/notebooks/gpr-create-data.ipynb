{
 "cells": [
  {
   "cell_type": "markdown",
   "metadata": {},
   "source": [
    "# Creata GPR data\n",
    "\n",
    "*This notebook is to reproduce the results from the article. For more information see the article in the parent directory.*\n",
    "\n",
    "=> The figure is created in the notebook `gpr-figure.ipynb`."
   ]
  },
  {
   "cell_type": "code",
   "execution_count": 1,
   "metadata": {
    "collapsed": false
   },
   "outputs": [],
   "source": [
    "import os\n",
    "import subprocess\n",
    "import numpy as np\n",
    "\n",
    "from empymod.model import gpr, tem\n",
    "from empymod.utils import printstartfinish"
   ]
  },
  {
   "cell_type": "markdown",
   "metadata": {},
   "source": [
    "## Parameters\n",
    "Parameters as in Hunziker et al., 2015"
   ]
  },
  {
   "cell_type": "code",
   "execution_count": 2,
   "metadata": {
    "collapsed": false
   },
   "outputs": [],
   "source": [
    "x = np.r_[0.001, np.arange(1, 201)*.02]  # X-coord from 0 to 4 m, spacing of 20 cm\n",
    "y = np.zeros(x.size)                     # Y-coord = 0\n",
    "zsrc = 0.0000001                         # Source depth just slightly below 0\n",
    "zrec = 0.5                               # Receiver depth at 0.5 m\n",
    "depth = [0, 1]                           # 1 layer of 1 m thickness between two half-spaces\n",
    "eperm = [1, 9, 15]                       # El. permit. model\n",
    "res = [1e23, 200, 20]                    # Resistivity model: air, 1st layer, 2nd layer\n",
    "f = np.arange(1, 850+1)*1e6              # Frequencies from 1e6 Hz to 850 Hz, 1e6 Hz sampling\n",
    "t = np.arange(321)/4*1e-9                # Times from 1 ns to 80 ns, 4 samples per ns\n",
    "cf = 250e6                               # Center frequency\n",
    "verb = 2                                 # Verbosity level\n",
    "\n",
    "# Collect general input parameters\n",
    "inp = {'src': [0, 0, zsrc], 'rec': [x, y, zrec], 'depth': depth, 'res': res, 'cf': cf, 'ab': 11,\n",
    "       'gain': 3, 'epermH': eperm, 'epermV': eperm, 'loop': 'off', 'verb': verb, 'freqtime': t, 'opt': 'spline',\n",
    "       'ft': 'fft', 'ftarg': [f[0], f.size, 2048]}  # FFT: we are padding with zerose to 2048 samples"
   ]
  },
  {
   "cell_type": "markdown",
   "metadata": {},
   "source": [
    "## Calculate GPR with `empymod` for FHT, QWE, and QUAD\n",
    "\n",
    "and store it in `*.npy`-files which are loaded in the `gpr-figures.ipynb`.\n",
    "\n",
    "## 1. FHT"
   ]
  },
  {
   "cell_type": "code",
   "execution_count": 3,
   "metadata": {
    "collapsed": false
   },
   "outputs": [
    {
     "name": "stdout",
     "output_type": "stream",
     "text": [
      "* WARNING :: Times < 1e-20 s are set to 1e-20 s!\n",
      "\n",
      ":: empymod END; runtime = 0:00:42.606283 :: 850 kernel call(s)\n",
      "\n"
     ]
    }
   ],
   "source": [
    "gprFHT = gpr(ht='fht', htarg=['key_401_2009', 100], **inp)\n",
    "np.save('data/GPR-FHT', gprFHT)"
   ]
  },
  {
   "cell_type": "markdown",
   "metadata": {
    "collapsed": false
   },
   "source": [
    "## 2. QWE"
   ]
  },
  {
   "cell_type": "code",
   "execution_count": 4,
   "metadata": {
    "collapsed": false
   },
   "outputs": [
    {
     "name": "stdout",
     "output_type": "stream",
     "text": [
      "* WARNING :: Times < 1e-20 s are set to 1e-20 s!\n",
      "* WARNING :: Hankel-quadrature did not converge at least once;\n",
      "             => desired `atol` and `rtol` might not be achieved.\n",
      "\n",
      ":: empymod END; runtime = 4:21:54.004113 :: 850 kernel call(s)\n",
      "\n"
     ]
    }
   ],
   "source": [
    "gprQWE = gpr(ht='qwe', htarg=[1e-8, 1e-15, '', 200, 200, 60, 1e-6, 160, 4000], **inp)\n",
    "np.save('data/GPR-QWE', gprQWE)"
   ]
  },
  {
   "cell_type": "markdown",
   "metadata": {
    "collapsed": false
   },
   "source": [
    "## 3. QUAD"
   ]
  },
  {
   "cell_type": "code",
   "execution_count": 5,
   "metadata": {
    "collapsed": false
   },
   "outputs": [
    {
     "name": "stdout",
     "output_type": "stream",
     "text": [
      "* WARNING :: Times < 1e-20 s are set to 1e-20 s!\n",
      "* WARNING :: Hankel-quadrature did not converge at least once;\n",
      "             => desired `atol` and `rtol` might not be achieved.\n",
      "\n",
      ":: empymod END; runtime = 7:46:08.860485 :: 850 kernel call(s)\n",
      "\n"
     ]
    }
   ],
   "source": [
    "gprQUA = gpr(ht='quad', htarg=['', '', 51, '', 160, 500], **inp)\n",
    "np.save('data/GPR-QUA', gprQUA)"
   ]
  },
  {
   "cell_type": "markdown",
   "metadata": {},
   "source": [
    "## Calculate GPR with `EMmod`\n",
    "\n",
    "To calculate the `EMmod`-result, `EMmod` must be installed and in the bash-PATH."
   ]
  },
  {
   "cell_type": "code",
   "execution_count": 6,
   "metadata": {
    "collapsed": false
   },
   "outputs": [
    {
     "name": "stdout",
     "output_type": "stream",
     "text": [
      "\n",
      ":: empymod END; runtime = 9:30:42.679486 :: \n",
      "\n"
     ]
    }
   ],
   "source": [
    "# We use the empymod-utility to measure execution time; get start time\n",
    "tstart = printstartfinish(verb)\n",
    "\n",
    "# Change directory\n",
    "os.chdir('data/GPR')\n",
    "\n",
    "# Run EMmod\n",
    "subprocess.run('bash gprloop_twointerface.scr', shell=True, stderr=subprocess.STDOUT, stdout=subprocess.PIPE)\n",
    "\n",
    "# Change back to original directory\n",
    "os.chdir('../..')\n",
    "\n",
    "# Read data\n",
    "fEM = np.zeros((f.size, x.size), dtype=complex)\n",
    "for i in range(f.size):\n",
    "    filename = 'data/GPR/gprloop_twointmod_freq'+str(i+1)+'_11.bin'\n",
    "    tf = open(filename, 'rb')\n",
    "    temp = np.fromfile(tf)\n",
    "    fEM[i, :] = temp[x.size*2:x.size*4:2] + 1j*temp[x.size*2+1:x.size*4+1:2]\n",
    "\n",
    "# Multiply with ricker wavelet\n",
    "cfc = -(np.r_[0, f[:-1]]/250e6)**2\n",
    "fwave = cfc*np.exp(cfc)\n",
    "fEM *= fwave[:, None]\n",
    "\n",
    "# Do f->t transform\n",
    "tEM, conv = tem(fEM, x, f, t, 0, 'fft', [f[0], f.size, 2048, None])\n",
    "\n",
    "# Apply gain; make pure real\n",
    "tEM *= (1 + np.abs((t*10**9)**3))[:, None]\n",
    "gprEMmod = tEM.real\n",
    "\n",
    "# Print execution time (it will show 'empymod', but obviously in this case it is `EMmod`)\n",
    "printstartfinish(verb, tstart)\n",
    "\n",
    "# Store EMmod\n",
    "np.save('data/GPR-EMmod', gprEMmod)"
   ]
  },
  {
   "cell_type": "markdown",
   "metadata": {},
   "source": [
    "## Calculate theoretical arrival times"
   ]
  },
  {
   "cell_type": "code",
   "execution_count": 7,
   "metadata": {
    "collapsed": false
   },
   "outputs": [],
   "source": [
    "# Arrival times for direct wave\n",
    "clight = 299792458\n",
    "vel = clight/np.sqrt(eperm[1])\n",
    "arrtime = np.sqrt((zsrc-zrec)**2 + x**2 + y**2)/vel\n",
    "\n",
    "# Arrival times for reflected wave\n",
    "arrtimeref = np.sqrt((np.abs(zsrc - depth[1]) + np.abs(zrec - depth[1]))**2 + x**2 + y**2)/vel\n",
    "\n",
    "# Arrival times for refracted wave in the air\n",
    "# This only works if ypos = 0\n",
    "refractang = np.arcsin(vel/clight)\n",
    "arrtimerefair = (np.abs(zsrc - depth[0])/np.cos(refractang) + np.abs(zrec - depth[0])/np.cos(refractang))/vel\n",
    "arrtimerefair += (np.abs(x) - np.abs(zsrc - depth[0])*np.tan(refractang) - np.abs(zrec - depth[0])*np.tan(refractang))/clight\n",
    "\n",
    "np.savez('data/ArrivalTimes.npz', arrtime=arrtime, arrtimeref=arrtimeref, arrtimerefair=arrtimerefair, x=x)"
   ]
  }
 ],
 "metadata": {
  "anaconda-cloud": {},
  "kernelspec": {
   "display_name": "Python [conda root]",
   "language": "python",
   "name": "conda-root-py"
  },
  "language_info": {
   "codemirror_mode": {
    "name": "ipython",
    "version": 3
   },
   "file_extension": ".py",
   "mimetype": "text/x-python",
   "name": "python",
   "nbconvert_exporter": "python",
   "pygments_lexer": "ipython3",
   "version": "3.5.2"
  }
 },
 "nbformat": 4,
 "nbformat_minor": 0
}
