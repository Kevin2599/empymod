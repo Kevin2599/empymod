{
 "cells": [
  {
   "cell_type": "markdown",
   "metadata": {},
   "source": [
    "### The Leading Edge - Geophysical Tutorial (TLE April 2017)\n",
    "# Having fun with electromagnetic modeling\n",
    "\n",
    "Dieter Werthmüller\n",
    "\n",
    "*This Jupyter Notebook accompanies the Geophysical Tutorial from The Leading Edge April 2017 edition, entitled *<**TODO: Enter final title**>*. You can play with all of the examples in this tutorial yourself in the notebook and data at https://github.com/seg. Please refer to the tutorial in the February 2016 issue for help getting started.*\n",
    "\n",
    "\n",
    "## Electromagnetic modelling\n",
    "\n",
    "Why 1D modelling (speed, isolated effects);\n",
    "Describe existing, available codes with their advantages and limitations\n",
    "\n",
    "\n",
    "### `empymod`\n",
    "Describe the code; fht/qwe and fht/qwe/fftlog; arbitrary rotade source and receiver with length and source moment; low to high frequencies $\\rho_h, \\lambda, \\mu_h, \\mu_v, \\epsilon_h, \\epsilon_v$\n",
    "\n",
    "Describe where to get it, documentation, installation, requirements\n",
    "The modeler `empymod` requires (read: was tested with) Python 3.4 or higher, and requires `NumPy` and `SciPy`.\n",
    "https://github.com/prisae/empymod\n",
    "http://empymod.readthedocs.io\n",
    "\n",
    "Invite to participate!\n"
   ]
  },
  {
   "cell_type": "markdown",
   "metadata": {},
   "source": [
    "Notes: The previous 19 Tutorials had (in the article, not the notebook):\n",
    "- 0-33 lines of code\n",
    "- 2-4 pages\n",
    "- 0-4 equations\n",
    "- 1-6 figures\n",
    "- 0-3 tables\n",
    "\n",
    "Matt suggests ~1500 words"
   ]
  },
  {
   "cell_type": "code",
   "execution_count": 8,
   "metadata": {
    "collapsed": true
   },
   "outputs": [],
   "source": [
    "# NumPy for array-creation\n",
    "import numpy as np\n",
    "\n",
    "# Plot settings\n",
    "import matplotlib.pyplot as plt\n",
    "plt.style.use('ggplot')\n",
    "%matplotlib inline\n",
    "\n",
    "# empymod\n",
    "from empymod import bipole"
   ]
  },
  {
   "cell_type": "markdown",
   "metadata": {},
   "source": [
    "## Define the standard model\n",
    "\n",
    "As e.g. in Key, 2009"
   ]
  },
  {
   "cell_type": "code",
   "execution_count": null,
   "metadata": {
    "collapsed": true
   },
   "outputs": [],
   "source": []
  },
  {
   "cell_type": "markdown",
   "metadata": {},
   "source": [
    "## 1. Bipole versus dipole"
   ]
  },
  {
   "cell_type": "code",
   "execution_count": null,
   "metadata": {
    "collapsed": true
   },
   "outputs": [],
   "source": []
  },
  {
   "cell_type": "markdown",
   "metadata": {},
   "source": [
    "## 2. NAR\n",
    "\n",
    "E.g. Hesthammer and Stefatos, 2010, figure 1\n",
    "\n",
    "Offset vs normalized amplitud: NMVO (normalized magnitude vs offset); NAR: Normalised anomalous amplitude; for the fundamental frequency"
   ]
  },
  {
   "cell_type": "code",
   "execution_count": null,
   "metadata": {
    "collapsed": true
   },
   "outputs": [],
   "source": []
  },
  {
   "cell_type": "markdown",
   "metadata": {},
   "source": [
    "## 3. Frequency-offset crossplot"
   ]
  },
  {
   "cell_type": "code",
   "execution_count": null,
   "metadata": {
    "collapsed": true
   },
   "outputs": [],
   "source": []
  },
  {
   "cell_type": "markdown",
   "metadata": {
    "collapsed": true
   },
   "source": [
    "## 4. Frequency versus time\n",
    "\n",
    "Rule of thumb: Offset > 5 times the bipole length = > model as dipole; Why bother? Much faster"
   ]
  },
  {
   "cell_type": "code",
   "execution_count": null,
   "metadata": {
    "collapsed": true
   },
   "outputs": [],
   "source": []
  },
  {
   "cell_type": "markdown",
   "metadata": {},
   "source": [
    "## 5. Anisotropy\n",
    "Pitfall: ...with anisotropy x... => what anisotropy?\n",
    "\n",
    "What type of anisotropy?\n",
    "$$\n",
    "\\lambda = \\sqrt{\\frac{\\rho_v}{\\rho_h}}\\ , \\qquad \\text{and} \\qquad \\rho_m = \\sqrt{\\rho_v\\rho_h}\n",
    "$$\n",
    "\n",
    "$$\n",
    "\\lambda\\rho_h = \\rho_m = \\frac{1}{\\lambda}\\rho_v\n",
    "$$\n",
    "\n",
    "Werthmüller, 2009 and presented in e.g. Hobbs et al, 2009"
   ]
  },
  {
   "cell_type": "code",
   "execution_count": null,
   "metadata": {
    "collapsed": true
   },
   "outputs": [],
   "source": []
  },
  {
   "cell_type": "markdown",
   "metadata": {},
   "source": [
    "## References\n",
    "\n",
    "**Anderson, W. L., 1979**, Numerical integration of related Hankel transforms of orders 0 and 1 by adaptive digital filtering: Geophysics, 44, 1287-1305.  \n",
    "DOI: [10.1190/1.1441007](http://dx.doi.org/10.1190/1.1441007)\n",
    "\n",
    "**Hamilton, A. J. S., 2000**, Uncorrelated modes of the non-linear power spectrum: Monthly Notices of the Royal Astronomical Society, 312, pages 257-284.  \n",
    "DOI: [10.1046/j.1365-8711.2000.03071.x](http://dx.doi.org/10.1046/j.1365-8711.2000.03071.x)  \n",
    "Software: [casa.colorado.edu/~ajsh/FFTLog](http://casa.colorado.edu/~ajsh/FFTLog)\n",
    "\n",
    "**Hesthammer, J., and A. Stefatos, 2010** ,The performance of CSEM as a de‐risking tool in oil and gas exploration: SEG Technical Program Expanded Abstracts, 675-679.  \n",
    "DOI: [10.1190/1.3513873](http://dx.doi.org/10.1190/1.3513873)\n",
    "\n",
    "\n",
    "**Hobbs, B. A., D. Werthmüller, and F. Engelmark, 2009**, Apparent anisotropy derived from transient electromagnetic earth responses: SEG Technical Program Expanded Abstracts, 744-748.  \n",
    "DOI: [10.1190/1.3255861](http://dx.doi.org/10.1190/1.3255861)\n",
    "\n",
    "**Hunziker, J., J. Thorbecke, and E. Slob, 2015**, The electromagnetic response in a layered vertical transverse isotropic medium: A new look at an old problem: Geophysics, 80, F1-F18.  \n",
    "DOI: [10.1190/geo2013-0411.1](http://dx.doi.org/10.1190/geo2013-0411.1)  \n",
    "Software: [software.seg.org/2015/0001](http://software.seg.org/2015/0001)\n",
    "   \n",
    "**Key, K., 2009**, 1D inversion of multicomponent, multifrequency marine CSEM data: Methodology and synthetic studies for resolving thin resistive layers: Geophysics, 74, F9-F20.  \n",
    "DOI: [10.1190/1.3058434](http://dx.doi.org/10.1190/1.3058434)  \n",
    "Software: [marineemlab.ucsd.edu/Projects/Occam/1DCSEM](http://marineemlab.ucsd.edu/Projects/Occam/1DCSEM)\n",
    "\n",
    "**Key, K., and J. Ovall, 2011**, A parallel goal-oriented adaptive finite element method for 2.5-D electromagnetic modelling: Geophysical Journal International, 186, 137-154.  \n",
    "DOI: [10.1111/j.1365-246X.2011.05025.x](http://dx.doi.org/10.1111/j.1365-246X.2011.05025.x)  \n",
    "Software: [mare2dem.ucsd.edu](http://mare2dem.ucsd.edu)\n",
    "\n",
    "**Key, K., 2012**, Is the fast Hankel transform faster than quadrature?: Geophysics, 77, F21-F30.  \n",
    "DOI: [10.1190/GEO2011-0237.1](http://dx.doi.org/10.1190/GEO2011-0237.1)  \n",
    "Software: [software.seg.org/2012/0003](http://software.seg.org/2012/0003)\n",
    "\n",
    "**Werthmüller, D., 2009**, Inversion of Multi-Transient EM data from anisotropic media: M.Sc. Thesis.  \n",
    "UUID: [f4b071c1-8e55-4ec5-86c6-a2d54c3eda5a](http://repository.tudelft.nl/view/ir/uuid:f4b071c1-8e55-4ec5-86c6-a2d54c3eda5a)\n"
   ]
  }
 ],
 "metadata": {
  "anaconda-cloud": {},
  "kernelspec": {
   "display_name": "Python [conda root]",
   "language": "python",
   "name": "conda-root-py"
  },
  "language_info": {
   "codemirror_mode": {
    "name": "ipython",
    "version": 3
   },
   "file_extension": ".py",
   "mimetype": "text/x-python",
   "name": "python",
   "nbconvert_exporter": "python",
   "pygments_lexer": "ipython3",
   "version": "3.5.2"
  }
 },
 "nbformat": 4,
 "nbformat_minor": 1
}
